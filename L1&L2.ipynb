{
 "cells": [
  {
   "cell_type": "code",
   "execution_count": null,
   "id": "d46a5774",
   "metadata": {},
   "outputs": [],
   "source": [
    "import numpy as np\n",
    "import matplotlib.pyplot as plt\n",
    "import pandas as pd\n",
    "from sklearn.linear_model import RidgeCV\n",
    "from sklearn.metrics import mean_squared_error,r2_score\n",
    "from sklearn.model_selection import train_test_split\n",
    "\n",
    "df = pd.read_csv('houses_ridge.csv')\n",
    "df.head()\n",
    "x = df[['size_m2','bedrooms']]\n",
    "y = df['price_k']\n",
    "\n"
   ]
  },
  {
   "cell_type": "code",
   "execution_count": 6,
   "id": "4ea8cbde",
   "metadata": {},
   "outputs": [],
   "source": [
    "X_train,X_test,y_train,y_test = train_test_split(x,y,test_size=0.2,random_state=42)\n",
    "model = RidgeCV(cv=5)"
   ]
  },
  {
   "cell_type": "markdown",
   "id": "f6066e3c",
   "metadata": {},
   "source": [
    "Fitting Ridge Regression"
   ]
  },
  {
   "cell_type": "code",
   "execution_count": 12,
   "id": "1d225943",
   "metadata": {},
   "outputs": [
    {
     "name": "stdout",
     "output_type": "stream",
     "text": [
      "Coefficients:\n",
      " size_m2      0.427184\n",
      "bedrooms    26.512168\n",
      "dtype: float64\n"
     ]
    }
   ],
   "source": [
    "model.fit(X_train,y_train)\n",
    "y_pred = model.predict(X_test)\n",
    "\n",
    "coef = pd.Series(model.coef_,index = x.columns)\n",
    "print(\"Coefficients:\\n\",coef)"
   ]
  },
  {
   "cell_type": "markdown",
   "id": "8bafb238",
   "metadata": {},
   "source": [
    "Fitting OLS(Ordinary Least Square) Regression"
   ]
  },
  {
   "cell_type": "code",
   "execution_count": 13,
   "id": "8bd7b960",
   "metadata": {},
   "outputs": [
    {
     "name": "stdout",
     "output_type": "stream",
     "text": [
      "Linear Regression Coefficients:\n",
      " size_m2      0.407402\n",
      "bedrooms    27.152055\n",
      "dtype: float64\n"
     ]
    }
   ],
   "source": [
    "from sklearn.linear_model import LinearRegression\n",
    "\n",
    "model_lr = LinearRegression()\n",
    "model_lr.fit(X_train,y_train)\n",
    "y_pred_lr = model_lr.predict(X_test)\n",
    "coef_lr = pd.Series(model_lr.coef_,index = x.columns)\n",
    "print(\"Linear Regression Coefficients:\\n\",coef_lr)"
   ]
  },
  {
   "cell_type": "code",
   "execution_count": 15,
   "id": "1a3e5460",
   "metadata": {},
   "outputs": [
    {
     "name": "stdout",
     "output_type": "stream",
     "text": [
      "R2-Ridege : 0.6539195178334491\n",
      "R2-OLS : 0.6527723080573435\n"
     ]
    }
   ],
   "source": [
    "r2_ridge = r2_score(y_test,y_pred)\n",
    "r2_ols = r2_score(y_test,y_pred_lr)\n",
    "\n",
    "print(f\"R2-Ridge : {r2_ridge}\")\n",
    "print(f\"R2-OLS : {r2_ols}\")"
   ]
  },
  {
   "cell_type": "markdown",
   "id": "969e19c9",
   "metadata": {},
   "source": [
    "Why Ridge regression is better in this case"
   ]
  },
  {
   "cell_type": "markdown",
   "id": "ff206e12",
   "metadata": {},
   "source": [
    "1. Multicollinearity Problem\n",
    "\n",
    "When independent variables are highly correlated, OLS coefficient estimates become unstable, with inflated standard errors and erratic behavior—even a minor change in data can cause big swings in coefficient values.\n",
    "\n",
    "\n",
    "2. Ridge Adds Stability via L2 Penalty\n",
    "\n",
    "Ridge regression adds a penalty term to the loss function:\n",
    "\n"
   ]
  }
 ],
 "metadata": {
  "kernelspec": {
   "display_name": "Python 3",
   "language": "python",
   "name": "python3"
  },
  "language_info": {
   "codemirror_mode": {
    "name": "ipython",
    "version": 3
   },
   "file_extension": ".py",
   "mimetype": "text/x-python",
   "name": "python",
   "nbconvert_exporter": "python",
   "pygments_lexer": "ipython3",
   "version": "3.12.0"
  }
 },
 "nbformat": 4,
 "nbformat_minor": 5
}
